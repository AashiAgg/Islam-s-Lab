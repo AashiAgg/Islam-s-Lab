{
 "cells": [
  {
   "cell_type": "code",
   "execution_count": null,
   "metadata": {},
   "outputs": [],
   "source": [
    "import numpy as np"
   ]
  },
  {
   "cell_type": "markdown",
   "metadata": {},
   "source": [
    "Q-1"
   ]
  },
  {
   "cell_type": "code",
   "execution_count": null,
   "metadata": {},
   "outputs": [],
   "source": [
    "def no_zeros(arrayInput):\n",
    "    for i in arrayInput:\n",
    "        print(\"false\")\n",
    "        break\n",
    "    else:\n",
    "        print(\"true\")\n",
    "    print(arrayInput)\n",
    "\n",
    "x=np.random.randint(-3,3,size=(4))\n",
    "print(no_zeros(x))\n",
    "   \n"
   ]
  },
  {
   "cell_type": "markdown",
   "metadata": {},
   "source": [
    "Q-2"
   ]
  },
  {
   "cell_type": "code",
   "execution_count": null,
   "metadata": {},
   "outputs": [],
   "source": [
    "def linearly_distributed(n, min, max):\n",
    "    if n <= 0:\n",
    "        raise ValueError(\"Number of elements (n) should be greater than 0.\")\n",
    "    \n",
    "    if min >= max:\n",
    "        raise ValueError(\"min_val should be less than max val.\")\n",
    "\n",
    "    # Use numpy's linspace to create equally spaced elements\n",
    "    result = np.linspace(min, max - (max - min) / n, n)\n",
    "\n",
    "    return result\n",
    "\n",
    "max=int(input(\"Enter the max range \"))\n",
    "min=int(input(\"Enter the min range \"))\n",
    "n=int(input(\"Enter the length of array \"))\n",
    "final = linearly_distributed(n,min, max)\n",
    "print(final)\n",
    "\n"
   ]
  },
  {
   "cell_type": "markdown",
   "metadata": {},
   "source": [
    "Q - 3"
   ]
  },
  {
   "cell_type": "code",
   "execution_count": null,
   "metadata": {},
   "outputs": [],
   "source": [
    "def two_dimensions(n):\n",
    "    \n",
    "    border_array = np.ones((n, n), dtype=int)\n",
    "    border_array[1:-1, 1:-1] = 0\n",
    "    return border_array\n",
    "\n",
    "n = int(input(\"The size of 2d Array: \"))\n",
    "result = two_dimensions(n)\n",
    "print(result)\n",
    "    \n",
    "\n",
    "    "
   ]
  },
  {
   "cell_type": "markdown",
   "metadata": {},
   "source": [
    "Q-4"
   ]
  },
  {
   "cell_type": "code",
   "execution_count": null,
   "metadata": {},
   "outputs": [],
   "source": [
    "def create_array(n,min,max):\n",
    "    x=np.random.randint(min,max,size=(n))\n",
    "    return x\n",
    "   \n",
    "\n",
    "max=int(input(\"Enter the max range \"))\n",
    "min=int(input(\"Enter the min range \"))\n",
    "n=int(input(\"Enter the length of array \"))\n",
    "print('The generated array is ',create_array(n,min,max))"
   ]
  },
  {
   "cell_type": "markdown",
   "metadata": {},
   "source": [
    "Q-5"
   ]
  },
  {
   "cell_type": "code",
   "execution_count": 31,
   "metadata": {},
   "outputs": [
    {
     "name": "stdout",
     "output_type": "stream",
     "text": [
      "[[ 7  3 10]\n",
      " [ 4  9  8]\n",
      " [ 6  2  5]]\n"
     ]
    }
   ],
   "source": [
    "def random_generation(n,min,max):\n",
    "    \n",
    "    if n * n > max - min + 1:\n",
    "        raise ValueError(\"The range of values (max - min + 1) should be greater than or equal to n*n.\")\n",
    "\n",
    "    # Create an initial array with unique values\n",
    "    unique_values = np.arange(min, max + 1)\n",
    "\n",
    "    # Shuffle the array randomly\n",
    "    np.random.shuffle(unique_values)\n",
    "\n",
    "    # Reshape the shuffled array into an n x n matrix\n",
    "    result = unique_values[:n * n].reshape((n, n))\n",
    "\n",
    "    return result\n",
    "\n",
    "# Example usage:\n",
    "max=int(input(\"Enter the max range \"))\n",
    "min=int(input(\"Enter the min range \"))\n",
    "n=int(input(\"Enter the length of array \"))\n",
    "random_array = random_generation(n, min, max)\n",
    "print(random_array)\n"
   ]
  }
 ],
 "metadata": {
  "kernelspec": {
   "display_name": "Python 3",
   "language": "python",
   "name": "python3"
  },
  "language_info": {
   "codemirror_mode": {
    "name": "ipython",
    "version": 3
   },
   "file_extension": ".py",
   "mimetype": "text/x-python",
   "name": "python",
   "nbconvert_exporter": "python",
   "pygments_lexer": "ipython3",
   "version": "3.11.0"
  },
  "orig_nbformat": 4
 },
 "nbformat": 4,
 "nbformat_minor": 2
}
